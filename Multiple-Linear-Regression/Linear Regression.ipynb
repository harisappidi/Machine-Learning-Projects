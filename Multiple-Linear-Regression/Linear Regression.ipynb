{
 "cells": [
  {
   "cell_type": "markdown",
   "id": "b536afd4-b5dc-4159-ab97-3d3606397e58",
   "metadata": {},
   "source": [
    "# Building a Multiple Linear Regression Model from Scratch"
   ]
  },
  {
   "cell_type": "markdown",
   "id": "ac51ca66-79c7-4dfc-934e-2ef14e192552",
   "metadata": {},
   "source": [
    "## Auto-mpg(miles per gallon) Dataset from Kaggle"
   ]
  },
  {
   "cell_type": "code",
   "execution_count": 1,
   "id": "ff8adab9-605f-486d-b7d5-bc12ace2271b",
   "metadata": {},
   "outputs": [],
   "source": [
    "path = 'C:\\\\Users\\\\Harikrishna\\\\.cache\\\\kagglehub\\\\datasets\\\\uciml\\\\autompg-dataset\\\\versions\\\\3\\\\auto-mpg.csv'"
   ]
  },
  {
   "cell_type": "code",
   "execution_count": 2,
   "id": "ea5224c6-8192-4383-9902-a2e544a0f55c",
   "metadata": {},
   "outputs": [],
   "source": [
    "import numpy as np\n",
    "import matplotlib.pyplot as plt\n"
   ]
  },
  {
   "cell_type": "code",
   "execution_count": 3,
   "id": "07e3c7a8-623f-4a8b-bf48-cb85ed146466",
   "metadata": {},
   "outputs": [],
   "source": [
    "import pandas as pd\n",
    "\n",
    "data = pd.read_csv(path)"
   ]
  },
  {
   "cell_type": "code",
   "execution_count": 4,
   "id": "79a409c8-eea8-4a59-a0c1-876a3f8c82fc",
   "metadata": {},
   "outputs": [
    {
     "data": {
      "text/plain": [
       "(398, 9)"
      ]
     },
     "execution_count": 4,
     "metadata": {},
     "output_type": "execute_result"
    }
   ],
   "source": [
    "data.shape"
   ]
  },
  {
   "cell_type": "code",
   "execution_count": 5,
   "id": "606ef95f-d789-4edb-8c0d-c383efccdbcf",
   "metadata": {},
   "outputs": [
    {
     "data": {
      "text/plain": [
       "<bound method NDFrame.head of       mpg  cylinders  displacement horsepower  weight  acceleration  \\\n",
       "0    18.0          8         307.0        130    3504          12.0   \n",
       "1    15.0          8         350.0        165    3693          11.5   \n",
       "2    18.0          8         318.0        150    3436          11.0   \n",
       "3    16.0          8         304.0        150    3433          12.0   \n",
       "4    17.0          8         302.0        140    3449          10.5   \n",
       "..    ...        ...           ...        ...     ...           ...   \n",
       "393  27.0          4         140.0         86    2790          15.6   \n",
       "394  44.0          4          97.0         52    2130          24.6   \n",
       "395  32.0          4         135.0         84    2295          11.6   \n",
       "396  28.0          4         120.0         79    2625          18.6   \n",
       "397  31.0          4         119.0         82    2720          19.4   \n",
       "\n",
       "     model year  origin                   car name  \n",
       "0            70       1  chevrolet chevelle malibu  \n",
       "1            70       1          buick skylark 320  \n",
       "2            70       1         plymouth satellite  \n",
       "3            70       1              amc rebel sst  \n",
       "4            70       1                ford torino  \n",
       "..          ...     ...                        ...  \n",
       "393          82       1            ford mustang gl  \n",
       "394          82       2                  vw pickup  \n",
       "395          82       1              dodge rampage  \n",
       "396          82       1                ford ranger  \n",
       "397          82       1                 chevy s-10  \n",
       "\n",
       "[398 rows x 9 columns]>"
      ]
     },
     "execution_count": 5,
     "metadata": {},
     "output_type": "execute_result"
    }
   ],
   "source": [
    "data.head"
   ]
  },
  {
   "cell_type": "code",
   "execution_count": 6,
   "id": "b724be35-5c46-46b2-89f2-d0d0f4d64f88",
   "metadata": {},
   "outputs": [
    {
     "data": {
      "text/plain": [
       "Index(['mpg', 'cylinders', 'displacement', 'horsepower', 'weight',\n",
       "       'acceleration', 'model year', 'origin', 'car name'],\n",
       "      dtype='object')"
      ]
     },
     "execution_count": 6,
     "metadata": {},
     "output_type": "execute_result"
    }
   ],
   "source": [
    "data.columns"
   ]
  },
  {
   "cell_type": "code",
   "execution_count": 7,
   "id": "643c26d3-0a0c-4203-9452-6a81de673426",
   "metadata": {},
   "outputs": [
    {
     "data": {
      "text/plain": [
       "mpg             False\n",
       "cylinders       False\n",
       "displacement    False\n",
       "horsepower      False\n",
       "weight          False\n",
       "acceleration    False\n",
       "model year      False\n",
       "origin          False\n",
       "car name        False\n",
       "dtype: bool"
      ]
     },
     "execution_count": 7,
     "metadata": {},
     "output_type": "execute_result"
    }
   ],
   "source": [
    "data.isnull().any()"
   ]
  },
  {
   "cell_type": "code",
   "execution_count": 8,
   "id": "957a36b8-5043-47dc-b9cf-d601b04f3961",
   "metadata": {},
   "outputs": [],
   "source": [
    "data.drop('car name', axis=1, inplace = True)"
   ]
  },
  {
   "cell_type": "code",
   "execution_count": 9,
   "id": "15df0c65-320c-4689-b971-f37e3550eabf",
   "metadata": {},
   "outputs": [
    {
     "data": {
      "text/plain": [
       "Index(['mpg', 'cylinders', 'displacement', 'horsepower', 'weight',\n",
       "       'acceleration', 'model year', 'origin'],\n",
       "      dtype='object')"
      ]
     },
     "execution_count": 9,
     "metadata": {},
     "output_type": "execute_result"
    }
   ],
   "source": [
    "data.columns"
   ]
  },
  {
   "cell_type": "code",
   "execution_count": 10,
   "id": "5a6086d1-5820-4500-9c24-66245389fe0e",
   "metadata": {},
   "outputs": [],
   "source": [
    "data.replace('?', np.nan, inplace = True)"
   ]
  },
  {
   "cell_type": "code",
   "execution_count": 11,
   "id": "d30cd42e-00fc-4818-acb9-6c3d5b1d92f4",
   "metadata": {},
   "outputs": [],
   "source": [
    "data = data.dropna()"
   ]
  },
  {
   "cell_type": "code",
   "execution_count": 12,
   "id": "065c0850-34b3-463b-a932-cba499979790",
   "metadata": {},
   "outputs": [
    {
     "data": {
      "text/plain": [
       "(392, 8)"
      ]
     },
     "execution_count": 12,
     "metadata": {},
     "output_type": "execute_result"
    }
   ],
   "source": [
    "data.shape"
   ]
  },
  {
   "cell_type": "code",
   "execution_count": 13,
   "id": "7f118281-8369-4891-b710-32c1b02879b3",
   "metadata": {},
   "outputs": [
    {
     "data": {
      "text/plain": [
       "<bound method DataFrame.info of       mpg  cylinders  displacement horsepower  weight  acceleration  \\\n",
       "0    18.0          8         307.0        130    3504          12.0   \n",
       "1    15.0          8         350.0        165    3693          11.5   \n",
       "2    18.0          8         318.0        150    3436          11.0   \n",
       "3    16.0          8         304.0        150    3433          12.0   \n",
       "4    17.0          8         302.0        140    3449          10.5   \n",
       "..    ...        ...           ...        ...     ...           ...   \n",
       "393  27.0          4         140.0         86    2790          15.6   \n",
       "394  44.0          4          97.0         52    2130          24.6   \n",
       "395  32.0          4         135.0         84    2295          11.6   \n",
       "396  28.0          4         120.0         79    2625          18.6   \n",
       "397  31.0          4         119.0         82    2720          19.4   \n",
       "\n",
       "     model year  origin  \n",
       "0            70       1  \n",
       "1            70       1  \n",
       "2            70       1  \n",
       "3            70       1  \n",
       "4            70       1  \n",
       "..          ...     ...  \n",
       "393          82       1  \n",
       "394          82       2  \n",
       "395          82       1  \n",
       "396          82       1  \n",
       "397          82       1  \n",
       "\n",
       "[392 rows x 8 columns]>"
      ]
     },
     "execution_count": 13,
     "metadata": {},
     "output_type": "execute_result"
    }
   ],
   "source": [
    "data.info"
   ]
  },
  {
   "cell_type": "code",
   "execution_count": 14,
   "id": "6378050d-8b01-474f-afd1-d519df96fad1",
   "metadata": {},
   "outputs": [
    {
     "data": {
      "text/html": [
       "<div>\n",
       "<style scoped>\n",
       "    .dataframe tbody tr th:only-of-type {\n",
       "        vertical-align: middle;\n",
       "    }\n",
       "\n",
       "    .dataframe tbody tr th {\n",
       "        vertical-align: top;\n",
       "    }\n",
       "\n",
       "    .dataframe thead th {\n",
       "        text-align: right;\n",
       "    }\n",
       "</style>\n",
       "<table border=\"1\" class=\"dataframe\">\n",
       "  <thead>\n",
       "    <tr style=\"text-align: right;\">\n",
       "      <th></th>\n",
       "      <th>mpg</th>\n",
       "      <th>cylinders</th>\n",
       "      <th>displacement</th>\n",
       "      <th>horsepower</th>\n",
       "      <th>weight</th>\n",
       "      <th>acceleration</th>\n",
       "      <th>model year</th>\n",
       "      <th>origin</th>\n",
       "    </tr>\n",
       "  </thead>\n",
       "  <tbody>\n",
       "    <tr>\n",
       "      <th>mpg</th>\n",
       "      <td>1.000000</td>\n",
       "      <td>-0.777618</td>\n",
       "      <td>-0.805127</td>\n",
       "      <td>-0.778427</td>\n",
       "      <td>-0.832244</td>\n",
       "      <td>0.423329</td>\n",
       "      <td>0.580541</td>\n",
       "      <td>0.565209</td>\n",
       "    </tr>\n",
       "    <tr>\n",
       "      <th>cylinders</th>\n",
       "      <td>-0.777618</td>\n",
       "      <td>1.000000</td>\n",
       "      <td>0.950823</td>\n",
       "      <td>0.842983</td>\n",
       "      <td>0.897527</td>\n",
       "      <td>-0.504683</td>\n",
       "      <td>-0.345647</td>\n",
       "      <td>-0.568932</td>\n",
       "    </tr>\n",
       "    <tr>\n",
       "      <th>displacement</th>\n",
       "      <td>-0.805127</td>\n",
       "      <td>0.950823</td>\n",
       "      <td>1.000000</td>\n",
       "      <td>0.897257</td>\n",
       "      <td>0.932994</td>\n",
       "      <td>-0.543800</td>\n",
       "      <td>-0.369855</td>\n",
       "      <td>-0.614535</td>\n",
       "    </tr>\n",
       "    <tr>\n",
       "      <th>horsepower</th>\n",
       "      <td>-0.778427</td>\n",
       "      <td>0.842983</td>\n",
       "      <td>0.897257</td>\n",
       "      <td>1.000000</td>\n",
       "      <td>0.864538</td>\n",
       "      <td>-0.689196</td>\n",
       "      <td>-0.416361</td>\n",
       "      <td>-0.455171</td>\n",
       "    </tr>\n",
       "    <tr>\n",
       "      <th>weight</th>\n",
       "      <td>-0.832244</td>\n",
       "      <td>0.897527</td>\n",
       "      <td>0.932994</td>\n",
       "      <td>0.864538</td>\n",
       "      <td>1.000000</td>\n",
       "      <td>-0.416839</td>\n",
       "      <td>-0.309120</td>\n",
       "      <td>-0.585005</td>\n",
       "    </tr>\n",
       "    <tr>\n",
       "      <th>acceleration</th>\n",
       "      <td>0.423329</td>\n",
       "      <td>-0.504683</td>\n",
       "      <td>-0.543800</td>\n",
       "      <td>-0.689196</td>\n",
       "      <td>-0.416839</td>\n",
       "      <td>1.000000</td>\n",
       "      <td>0.290316</td>\n",
       "      <td>0.212746</td>\n",
       "    </tr>\n",
       "    <tr>\n",
       "      <th>model year</th>\n",
       "      <td>0.580541</td>\n",
       "      <td>-0.345647</td>\n",
       "      <td>-0.369855</td>\n",
       "      <td>-0.416361</td>\n",
       "      <td>-0.309120</td>\n",
       "      <td>0.290316</td>\n",
       "      <td>1.000000</td>\n",
       "      <td>0.181528</td>\n",
       "    </tr>\n",
       "    <tr>\n",
       "      <th>origin</th>\n",
       "      <td>0.565209</td>\n",
       "      <td>-0.568932</td>\n",
       "      <td>-0.614535</td>\n",
       "      <td>-0.455171</td>\n",
       "      <td>-0.585005</td>\n",
       "      <td>0.212746</td>\n",
       "      <td>0.181528</td>\n",
       "      <td>1.000000</td>\n",
       "    </tr>\n",
       "  </tbody>\n",
       "</table>\n",
       "</div>"
      ],
      "text/plain": [
       "                   mpg  cylinders  displacement  horsepower    weight  \\\n",
       "mpg           1.000000  -0.777618     -0.805127   -0.778427 -0.832244   \n",
       "cylinders    -0.777618   1.000000      0.950823    0.842983  0.897527   \n",
       "displacement -0.805127   0.950823      1.000000    0.897257  0.932994   \n",
       "horsepower   -0.778427   0.842983      0.897257    1.000000  0.864538   \n",
       "weight       -0.832244   0.897527      0.932994    0.864538  1.000000   \n",
       "acceleration  0.423329  -0.504683     -0.543800   -0.689196 -0.416839   \n",
       "model year    0.580541  -0.345647     -0.369855   -0.416361 -0.309120   \n",
       "origin        0.565209  -0.568932     -0.614535   -0.455171 -0.585005   \n",
       "\n",
       "              acceleration  model year    origin  \n",
       "mpg               0.423329    0.580541  0.565209  \n",
       "cylinders        -0.504683   -0.345647 -0.568932  \n",
       "displacement     -0.543800   -0.369855 -0.614535  \n",
       "horsepower       -0.689196   -0.416361 -0.455171  \n",
       "weight           -0.416839   -0.309120 -0.585005  \n",
       "acceleration      1.000000    0.290316  0.212746  \n",
       "model year        0.290316    1.000000  0.181528  \n",
       "origin            0.212746    0.181528  1.000000  "
      ]
     },
     "execution_count": 14,
     "metadata": {},
     "output_type": "execute_result"
    }
   ],
   "source": [
    "data.corr()"
   ]
  },
  {
   "cell_type": "markdown",
   "id": "e95bc60a-77fc-49ea-8c9c-be7c5513537b",
   "metadata": {},
   "source": [
    "### weight parameter has the highest correlation with mpg, so we consider weight parameter as input feature"
   ]
  },
  {
   "cell_type": "code",
   "execution_count": 15,
   "id": "dfb87e5f-ec1d-4669-b156-1959cb82046d",
   "metadata": {},
   "outputs": [],
   "source": [
    "X = data.drop(columns=['mpg'])\n",
    "y = data['mpg'].to_numpy()"
   ]
  },
  {
   "cell_type": "markdown",
   "id": "7740589e-0447-4736-8821-4bb10a68f714",
   "metadata": {},
   "source": [
    "## Normalizing input feature weight"
   ]
  },
  {
   "cell_type": "code",
   "execution_count": 16,
   "id": "5efc10b9-452b-4c46-b136-54140641826e",
   "metadata": {},
   "outputs": [
    {
     "data": {
      "text/plain": [
       "array([[ 1.48394702,  1.07728956,  0.66413273, ..., -1.285258  ,\n",
       "        -1.62531533, -0.71664105],\n",
       "       [ 1.48394702,  1.48873169,  1.57459447, ..., -1.46672362,\n",
       "        -1.62531533, -0.71664105],\n",
       "       [ 1.48394702,  1.1825422 ,  1.18439658, ..., -1.64818924,\n",
       "        -1.62531533, -0.71664105],\n",
       "       ...,\n",
       "       [-0.86401356, -0.56847897, -0.53247413, ..., -1.4304305 ,\n",
       "         1.63640964, -0.71664105],\n",
       "       [-0.86401356, -0.7120053 , -0.66254009, ...,  1.11008813,\n",
       "         1.63640964, -0.71664105],\n",
       "       [-0.86401356, -0.72157372, -0.58450051, ...,  1.40043312,\n",
       "         1.63640964, -0.71664105]])"
      ]
     },
     "execution_count": 16,
     "metadata": {},
     "output_type": "execute_result"
    }
   ],
   "source": [
    "from sklearn.preprocessing import StandardScaler, MinMaxScaler\n",
    "scaler = StandardScaler()\n",
    "X_scaled = scaler.fit_transform(X)\n",
    "X_scaled"
   ]
  },
  {
   "cell_type": "code",
   "execution_count": 17,
   "id": "3bf3876e-5230-4ff4-949d-06e7334cfe89",
   "metadata": {},
   "outputs": [
    {
     "data": {
      "text/plain": [
       "(392, 7)"
      ]
     },
     "execution_count": 17,
     "metadata": {},
     "output_type": "execute_result"
    }
   ],
   "source": [
    "X_scaled.shape"
   ]
  },
  {
   "cell_type": "markdown",
   "id": "796da86e-8d75-4cae-a028-4e0862d02a06",
   "metadata": {},
   "source": [
    "## Splitting Data"
   ]
  },
  {
   "cell_type": "code",
   "execution_count": 19,
   "id": "552a62c8-d3f2-470e-8e97-4b8d48bcdee1",
   "metadata": {},
   "outputs": [],
   "source": [
    "from sklearn.model_selection import train_test_split\n",
    "\n",
    "X_train, X_test, y_train, y_test = train_test_split(X_scaled, y, test_size=0.2, random_state=42)\n"
   ]
  },
  {
   "cell_type": "markdown",
   "id": "a6798572-705c-4961-996e-45de6041aa5b",
   "metadata": {},
   "source": [
    "## Computing the gradient"
   ]
  },
  {
   "cell_type": "code",
   "execution_count": 44,
   "id": "9316a2e8-b70e-4899-bcb7-9f5d912c0c75",
   "metadata": {},
   "outputs": [],
   "source": [
    "def compute_gradient(X, y, w, b):\n",
    "    \"\"\"\n",
    "    Computes the gradient for linear regression\n",
    "\n",
    "    Args:\n",
    "      X : (ndarray Shape (m,n)) data, m examples by n features\n",
    "      y : (ndarray Shape (m,))  target value \n",
    "      w : (ndarray Shape (n,))  values of parameters of the model      \n",
    "      b : (scalar)              value of bias parameter of the model\n",
    "\n",
    "    Returns:\n",
    "      dj_dw : (ndarray Shape (n,)) The gradient of the cost w.r.t. the parameters w. \n",
    "      dj_db : (scalar)             The gradient of the cost w.r.t. the parameter b. \n",
    "    \"\"\"\n",
    "    m, n = X.shape  # m = number of examples, n = number of features\n",
    "    dj_dw = np.zeros(w.shape)\n",
    "    dj_db = 0.\n",
    "\n",
    "    # Loop over each example\n",
    "    for i in range(m):\n",
    "        f_wb = np.dot(X[i], w) + b\n",
    "        error = f_wb - y[i]\n",
    "        dj_db += error\n",
    "        \n",
    "        for j in range(n):\n",
    "            dj_dw[j] += error * X[i, j]\n",
    "\n",
    "    dj_dw /= m\n",
    "    dj_db /= m\n",
    "\n",
    "    return dj_db, dj_dw\n"
   ]
  },
  {
   "cell_type": "markdown",
   "id": "c45980c0-ce57-4ba3-b560-e1d35cf8c11c",
   "metadata": {},
   "source": [
    "## Gradient Descent"
   ]
  },
  {
   "cell_type": "code",
   "execution_count": 21,
   "id": "fde5b14b-e575-4de7-bfa5-3e808397e24b",
   "metadata": {},
   "outputs": [],
   "source": [
    "def gradient_descent(X, y, w, b, alpha, num_iters):\n",
    "    \"\"\"\n",
    "    Performs gradient descent(batch) to learn w and b.\n",
    "\n",
    "    Args:\n",
    "      X : (ndarray Shape (m,n)) data, m examples by n features\n",
    "      y : (ndarray Shape (m,))  target value \n",
    "      w : (ndarray Shape (n,))  initial weights of the model      \n",
    "      b : (scalar)              initial bias of the model\n",
    "      alpha : (float)           learning rate\n",
    "      num_iters : (int)         number of iterations for gradient descent\n",
    "\n",
    "    Returns:\n",
    "      w : (ndarray Shape (n,))  updated weights\n",
    "      b : (scalar)              updated bias\n",
    "      J_history : (list)        cost value at each iteration\n",
    "    \"\"\"\n",
    "    m = len(y)\n",
    "    J_history = []\n",
    "    weights_and_bias = []\n",
    "\n",
    "    for i in range(num_iters):\n",
    "        dj_db, dj_dw = compute_gradient(X, y, w, b)\n",
    "\n",
    "        # Update weights and bias\n",
    "        w -= alpha * dj_dw\n",
    "        b -= alpha * dj_db\n",
    "\n",
    "        weights_and_bias.append((w,b))\n",
    "\n",
    "        # Compute Mean Squared Error cost function \n",
    "        cost = (1 / (2 * m)) * np.sum((np.dot(X, w) + b - y) ** 2)\n",
    "        J_history.append(cost)\n",
    "\n",
    "    return w, b, J_history, weights_and_bias"
   ]
  },
  {
   "cell_type": "code",
   "execution_count": 22,
   "id": "f4d15086-3bb9-4d60-93a5-d5c8e1607d63",
   "metadata": {},
   "outputs": [],
   "source": [
    "w = np.zeros(X_scaled.shape[1])\n",
    "b = 0\n",
    "alpha = 0.1\n",
    "num_iters = 40"
   ]
  },
  {
   "cell_type": "code",
   "execution_count": 23,
   "id": "321a9d96-ee77-48cf-ba77-ad52c0e396b7",
   "metadata": {},
   "outputs": [],
   "source": [
    "w, b, costs, weights_and_bias = gradient_descent(X_train, y_train, w, b, alpha, num_iters)"
   ]
  },
  {
   "cell_type": "code",
   "execution_count": 24,
   "id": "5a7b9152-a1b4-43f0-9289-69b29f3b74e0",
   "metadata": {},
   "outputs": [
    {
     "data": {
      "text/plain": [
       "[(array([-0.85502658, -0.86595405, -1.21010399, -2.47195347, -0.40945197,\n",
       "          2.71746414,  1.15443213]),\n",
       "  2.359936102236421),\n",
       " (array([-0.85502658, -0.86595405, -1.21010399, -2.47195347, -0.40945197,\n",
       "          2.71746414,  1.15443213]),\n",
       "  4.482935959941654),\n",
       " (array([-0.85502658, -0.86595405, -1.21010399, -2.47195347, -0.40945197,\n",
       "          2.71746414,  1.15443213]),\n",
       "  6.392518310955413),\n",
       " (array([-0.85502658, -0.86595405, -1.21010399, -2.47195347, -0.40945197,\n",
       "          2.71746414,  1.15443213]),\n",
       "  8.11001670179718),\n",
       " (array([-0.85502658, -0.86595405, -1.21010399, -2.47195347, -0.40945197,\n",
       "          2.71746414,  1.15443213]),\n",
       "  9.654710807317336),\n",
       " (array([-0.85502658, -0.86595405, -1.21010399, -2.47195347, -0.40945197,\n",
       "          2.71746414,  1.15443213]),\n",
       "  11.043985751170894),\n",
       " (array([-0.85502658, -0.86595405, -1.21010399, -2.47195347, -0.40945197,\n",
       "          2.71746414,  1.15443213]),\n",
       "  12.293497702706187),\n",
       " (array([-0.85502658, -0.86595405, -1.21010399, -2.47195347, -0.40945197,\n",
       "          2.71746414,  1.15443213]),\n",
       "  13.417334850670358),\n",
       " (array([-0.85502658, -0.86595405, -1.21010399, -2.47195347, -0.40945197,\n",
       "          2.71746414,  1.15443213]),\n",
       "  14.428168646676331),\n",
       " (array([-0.85502658, -0.86595405, -1.21010399, -2.47195347, -0.40945197,\n",
       "          2.71746414,  1.15443213]),\n",
       "  15.337393277258004),\n",
       " (array([-0.85502658, -0.86595405, -1.21010399, -2.47195347, -0.40945197,\n",
       "          2.71746414,  1.15443213]),\n",
       "  16.155252915215556),\n",
       " (array([-0.85502658, -0.86595405, -1.21010399, -2.47195347, -0.40945197,\n",
       "          2.71746414,  1.15443213]),\n",
       "  16.89095709905137),\n",
       " (array([-0.85502658, -0.86595405, -1.21010399, -2.47195347, -0.40945197,\n",
       "          2.71746414,  1.15443213]),\n",
       "  17.552784962693984),\n",
       " (array([-0.85502658, -0.86595405, -1.21010399, -2.47195347, -0.40945197,\n",
       "          2.71746414,  1.15443213]),\n",
       "  18.148179186374076),\n",
       " (array([-0.85502658, -0.86595405, -1.21010399, -2.47195347, -0.40945197,\n",
       "          2.71746414,  1.15443213]),\n",
       "  18.683830571548736),\n",
       " (array([-0.85502658, -0.86595405, -1.21010399, -2.47195347, -0.40945197,\n",
       "          2.71746414,  1.15443213]),\n",
       "  19.165754116374455),\n",
       " (array([-0.85502658, -0.86595405, -1.21010399, -2.47195347, -0.40945197,\n",
       "          2.71746414,  1.15443213]),\n",
       "  19.599357414542574),\n",
       " (array([-0.85502658, -0.86595405, -1.21010399, -2.47195347, -0.40945197,\n",
       "          2.71746414,  1.15443213]),\n",
       "  19.989502135785738),\n",
       " (array([-0.85502658, -0.86595405, -1.21010399, -2.47195347, -0.40945197,\n",
       "          2.71746414,  1.15443213]),\n",
       "  20.340559279584493),\n",
       " (array([-0.85502658, -0.86595405, -1.21010399, -2.47195347, -0.40945197,\n",
       "          2.71746414,  1.15443213]),\n",
       "  20.65645882882661),\n",
       " (array([-0.85502658, -0.86595405, -1.21010399, -2.47195347, -0.40945197,\n",
       "          2.71746414,  1.15443213]),\n",
       "  20.940734369391798),\n",
       " (array([-0.85502658, -0.86595405, -1.21010399, -2.47195347, -0.40945197,\n",
       "          2.71746414,  1.15443213]),\n",
       "  21.19656318563775),\n",
       " (array([-0.85502658, -0.86595405, -1.21010399, -2.47195347, -0.40945197,\n",
       "          2.71746414,  1.15443213]),\n",
       "  21.426802290710874),\n",
       " (array([-0.85502658, -0.86595405, -1.21010399, -2.47195347, -0.40945197,\n",
       "          2.71746414,  1.15443213]),\n",
       "  21.634020804343965),\n",
       " (array([-0.85502658, -0.86595405, -1.21010399, -2.47195347, -0.40945197,\n",
       "          2.71746414,  1.15443213]),\n",
       "  21.820529049035937),\n",
       " (array([-0.85502658, -0.86595405, -1.21010399, -2.47195347, -0.40945197,\n",
       "          2.71746414,  1.15443213]),\n",
       "  21.988404697880227),\n",
       " (array([-0.85502658, -0.86595405, -1.21010399, -2.47195347, -0.40945197,\n",
       "          2.71746414,  1.15443213]),\n",
       "  22.13951627345236),\n",
       " (array([-0.85502658, -0.86595405, -1.21010399, -2.47195347, -0.40945197,\n",
       "          2.71746414,  1.15443213]),\n",
       "  22.275544266728605),\n",
       " (array([-0.85502658, -0.86595405, -1.21010399, -2.47195347, -0.40945197,\n",
       "          2.71746414,  1.15443213]),\n",
       "  22.398000117654167),\n",
       " (array([-0.85502658, -0.86595405, -1.21010399, -2.47195347, -0.40945197,\n",
       "          2.71746414,  1.15443213]),\n",
       "  22.508243274404883),\n",
       " (array([-0.85502658, -0.86595405, -1.21010399, -2.47195347, -0.40945197,\n",
       "          2.71746414,  1.15443213]),\n",
       "  22.607496526311614),\n",
       " (array([-0.85502658, -0.86595405, -1.21010399, -2.47195347, -0.40945197,\n",
       "          2.71746414,  1.15443213]),\n",
       "  22.696859785589307),\n",
       " (array([-0.85502658, -0.86595405, -1.21010399, -2.47195347, -0.40945197,\n",
       "          2.71746414,  1.15443213]),\n",
       "  22.77732247520439),\n",
       " (array([-0.85502658, -0.86595405, -1.21010399, -2.47195347, -0.40945197,\n",
       "          2.71746414,  1.15443213]),\n",
       "  22.849774664219822),\n",
       " (array([-0.85502658, -0.86595405, -1.21010399, -2.47195347, -0.40945197,\n",
       "          2.71746414,  1.15443213]),\n",
       "  22.91501707759174),\n",
       " (array([-0.85502658, -0.86595405, -1.21010399, -2.47195347, -0.40945197,\n",
       "          2.71746414,  1.15443213]),\n",
       "  22.973770094489208),\n",
       " (array([-0.85502658, -0.86595405, -1.21010399, -2.47195347, -0.40945197,\n",
       "          2.71746414,  1.15443213]),\n",
       "  23.02668183761999),\n",
       " (array([-0.85502658, -0.86595405, -1.21010399, -2.47195347, -0.40945197,\n",
       "          2.71746414,  1.15443213]),\n",
       "  23.07433544563653),\n",
       " (array([-0.85502658, -0.86595405, -1.21010399, -2.47195347, -0.40945197,\n",
       "          2.71746414,  1.15443213]),\n",
       "  23.117255611346923),\n",
       " (array([-0.85502658, -0.86595405, -1.21010399, -2.47195347, -0.40945197,\n",
       "          2.71746414,  1.15443213]),\n",
       "  23.155914460057822)]"
      ]
     },
     "execution_count": 24,
     "metadata": {},
     "output_type": "execute_result"
    }
   ],
   "source": [
    "weights_and_bias"
   ]
  },
  {
   "cell_type": "code",
   "execution_count": 42,
   "id": "4ee2904a-9a89-4b86-9915-a26374246fd9",
   "metadata": {},
   "outputs": [
    {
     "name": "stdout",
     "output_type": "stream",
     "text": [
      "(313, 7)\n",
      "(313,)\n"
     ]
    }
   ],
   "source": [
    "print(X_train.shape)\n",
    "print(y_train.shape)"
   ]
  },
  {
   "cell_type": "code",
   "execution_count": 41,
   "id": "70807925-f20f-48f5-806f-922b1b4617cc",
   "metadata": {},
   "outputs": [
    {
     "ename": "ValueError",
     "evalue": "x and y must be the same size",
     "output_type": "error",
     "traceback": [
      "\u001b[1;31m---------------------------------------------------------------------------\u001b[0m",
      "\u001b[1;31mValueError\u001b[0m                                Traceback (most recent call last)",
      "Cell \u001b[1;32mIn[41], line 7\u001b[0m\n\u001b[0;32m      3\u001b[0m \u001b[38;5;66;03m#print(len(y_train))\u001b[39;00m\n\u001b[0;32m      4\u001b[0m \n\u001b[0;32m      5\u001b[0m \u001b[38;5;66;03m# 1. Plot Weight vs. MPG with the Fitted Line\u001b[39;00m\n\u001b[0;32m      6\u001b[0m plt\u001b[38;5;241m.\u001b[39mfigure(figsize\u001b[38;5;241m=\u001b[39m(\u001b[38;5;241m8\u001b[39m, \u001b[38;5;241m6\u001b[39m))\n\u001b[1;32m----> 7\u001b[0m plt\u001b[38;5;241m.\u001b[39mscatter(X_train, y_train, color\u001b[38;5;241m=\u001b[39m\u001b[38;5;124m'\u001b[39m\u001b[38;5;124mblue\u001b[39m\u001b[38;5;124m'\u001b[39m, label\u001b[38;5;241m=\u001b[39m\u001b[38;5;124m'\u001b[39m\u001b[38;5;124mTraining Data\u001b[39m\u001b[38;5;124m'\u001b[39m)\n\u001b[0;32m      8\u001b[0m \u001b[38;5;66;03m# plt.plot(X_train, y_pred, color='red', label='Fitted Line')\u001b[39;00m\n\u001b[0;32m      9\u001b[0m \u001b[38;5;66;03m# plt.xlabel('Weight')\u001b[39;00m\n\u001b[0;32m     10\u001b[0m \u001b[38;5;66;03m# plt.ylabel('MPG')\u001b[39;00m\n\u001b[0;32m     11\u001b[0m \u001b[38;5;66;03m# plt.title('Weight vs. MPG with Linear Regression Fit')\u001b[39;00m\n\u001b[0;32m     12\u001b[0m \u001b[38;5;66;03m# plt.legend()\u001b[39;00m\n\u001b[0;32m     13\u001b[0m plt\u001b[38;5;241m.\u001b[39mshow()\n",
      "File \u001b[1;32m~\\anaconda3\\Lib\\site-packages\\matplotlib\\pyplot.py:3687\u001b[0m, in \u001b[0;36mscatter\u001b[1;34m(x, y, s, c, marker, cmap, norm, vmin, vmax, alpha, linewidths, edgecolors, plotnonfinite, data, **kwargs)\u001b[0m\n\u001b[0;32m   3668\u001b[0m \u001b[38;5;129m@_copy_docstring_and_deprecators\u001b[39m(Axes\u001b[38;5;241m.\u001b[39mscatter)\n\u001b[0;32m   3669\u001b[0m \u001b[38;5;28;01mdef\u001b[39;00m \u001b[38;5;21mscatter\u001b[39m(\n\u001b[0;32m   3670\u001b[0m     x: \u001b[38;5;28mfloat\u001b[39m \u001b[38;5;241m|\u001b[39m ArrayLike,\n\u001b[1;32m   (...)\u001b[0m\n\u001b[0;32m   3685\u001b[0m     \u001b[38;5;241m*\u001b[39m\u001b[38;5;241m*\u001b[39mkwargs,\n\u001b[0;32m   3686\u001b[0m ) \u001b[38;5;241m-\u001b[39m\u001b[38;5;241m>\u001b[39m PathCollection:\n\u001b[1;32m-> 3687\u001b[0m     __ret \u001b[38;5;241m=\u001b[39m gca()\u001b[38;5;241m.\u001b[39mscatter(\n\u001b[0;32m   3688\u001b[0m         x,\n\u001b[0;32m   3689\u001b[0m         y,\n\u001b[0;32m   3690\u001b[0m         s\u001b[38;5;241m=\u001b[39ms,\n\u001b[0;32m   3691\u001b[0m         c\u001b[38;5;241m=\u001b[39mc,\n\u001b[0;32m   3692\u001b[0m         marker\u001b[38;5;241m=\u001b[39mmarker,\n\u001b[0;32m   3693\u001b[0m         cmap\u001b[38;5;241m=\u001b[39mcmap,\n\u001b[0;32m   3694\u001b[0m         norm\u001b[38;5;241m=\u001b[39mnorm,\n\u001b[0;32m   3695\u001b[0m         vmin\u001b[38;5;241m=\u001b[39mvmin,\n\u001b[0;32m   3696\u001b[0m         vmax\u001b[38;5;241m=\u001b[39mvmax,\n\u001b[0;32m   3697\u001b[0m         alpha\u001b[38;5;241m=\u001b[39malpha,\n\u001b[0;32m   3698\u001b[0m         linewidths\u001b[38;5;241m=\u001b[39mlinewidths,\n\u001b[0;32m   3699\u001b[0m         edgecolors\u001b[38;5;241m=\u001b[39medgecolors,\n\u001b[0;32m   3700\u001b[0m         plotnonfinite\u001b[38;5;241m=\u001b[39mplotnonfinite,\n\u001b[0;32m   3701\u001b[0m         \u001b[38;5;241m*\u001b[39m\u001b[38;5;241m*\u001b[39m({\u001b[38;5;124m\"\u001b[39m\u001b[38;5;124mdata\u001b[39m\u001b[38;5;124m\"\u001b[39m: data} \u001b[38;5;28;01mif\u001b[39;00m data \u001b[38;5;129;01mis\u001b[39;00m \u001b[38;5;129;01mnot\u001b[39;00m \u001b[38;5;28;01mNone\u001b[39;00m \u001b[38;5;28;01melse\u001b[39;00m {}),\n\u001b[0;32m   3702\u001b[0m         \u001b[38;5;241m*\u001b[39m\u001b[38;5;241m*\u001b[39mkwargs,\n\u001b[0;32m   3703\u001b[0m     )\n\u001b[0;32m   3704\u001b[0m     sci(__ret)\n\u001b[0;32m   3705\u001b[0m     \u001b[38;5;28;01mreturn\u001b[39;00m __ret\n",
      "File \u001b[1;32m~\\anaconda3\\Lib\\site-packages\\matplotlib\\__init__.py:1465\u001b[0m, in \u001b[0;36m_preprocess_data.<locals>.inner\u001b[1;34m(ax, data, *args, **kwargs)\u001b[0m\n\u001b[0;32m   1462\u001b[0m \u001b[38;5;129m@functools\u001b[39m\u001b[38;5;241m.\u001b[39mwraps(func)\n\u001b[0;32m   1463\u001b[0m \u001b[38;5;28;01mdef\u001b[39;00m \u001b[38;5;21minner\u001b[39m(ax, \u001b[38;5;241m*\u001b[39margs, data\u001b[38;5;241m=\u001b[39m\u001b[38;5;28;01mNone\u001b[39;00m, \u001b[38;5;241m*\u001b[39m\u001b[38;5;241m*\u001b[39mkwargs):\n\u001b[0;32m   1464\u001b[0m     \u001b[38;5;28;01mif\u001b[39;00m data \u001b[38;5;129;01mis\u001b[39;00m \u001b[38;5;28;01mNone\u001b[39;00m:\n\u001b[1;32m-> 1465\u001b[0m         \u001b[38;5;28;01mreturn\u001b[39;00m func(ax, \u001b[38;5;241m*\u001b[39m\u001b[38;5;28mmap\u001b[39m(sanitize_sequence, args), \u001b[38;5;241m*\u001b[39m\u001b[38;5;241m*\u001b[39mkwargs)\n\u001b[0;32m   1467\u001b[0m     bound \u001b[38;5;241m=\u001b[39m new_sig\u001b[38;5;241m.\u001b[39mbind(ax, \u001b[38;5;241m*\u001b[39margs, \u001b[38;5;241m*\u001b[39m\u001b[38;5;241m*\u001b[39mkwargs)\n\u001b[0;32m   1468\u001b[0m     auto_label \u001b[38;5;241m=\u001b[39m (bound\u001b[38;5;241m.\u001b[39marguments\u001b[38;5;241m.\u001b[39mget(label_namer)\n\u001b[0;32m   1469\u001b[0m                   \u001b[38;5;129;01mor\u001b[39;00m bound\u001b[38;5;241m.\u001b[39mkwargs\u001b[38;5;241m.\u001b[39mget(label_namer))\n",
      "File \u001b[1;32m~\\anaconda3\\Lib\\site-packages\\matplotlib\\axes\\_axes.py:4652\u001b[0m, in \u001b[0;36mAxes.scatter\u001b[1;34m(self, x, y, s, c, marker, cmap, norm, vmin, vmax, alpha, linewidths, edgecolors, plotnonfinite, **kwargs)\u001b[0m\n\u001b[0;32m   4650\u001b[0m y \u001b[38;5;241m=\u001b[39m np\u001b[38;5;241m.\u001b[39mma\u001b[38;5;241m.\u001b[39mravel(y)\n\u001b[0;32m   4651\u001b[0m \u001b[38;5;28;01mif\u001b[39;00m x\u001b[38;5;241m.\u001b[39msize \u001b[38;5;241m!=\u001b[39m y\u001b[38;5;241m.\u001b[39msize:\n\u001b[1;32m-> 4652\u001b[0m     \u001b[38;5;28;01mraise\u001b[39;00m \u001b[38;5;167;01mValueError\u001b[39;00m(\u001b[38;5;124m\"\u001b[39m\u001b[38;5;124mx and y must be the same size\u001b[39m\u001b[38;5;124m\"\u001b[39m)\n\u001b[0;32m   4654\u001b[0m \u001b[38;5;28;01mif\u001b[39;00m s \u001b[38;5;129;01mis\u001b[39;00m \u001b[38;5;28;01mNone\u001b[39;00m:\n\u001b[0;32m   4655\u001b[0m     s \u001b[38;5;241m=\u001b[39m (\u001b[38;5;241m20\u001b[39m \u001b[38;5;28;01mif\u001b[39;00m mpl\u001b[38;5;241m.\u001b[39mrcParams[\u001b[38;5;124m'\u001b[39m\u001b[38;5;124m_internal.classic_mode\u001b[39m\u001b[38;5;124m'\u001b[39m] \u001b[38;5;28;01melse\u001b[39;00m\n\u001b[0;32m   4656\u001b[0m          mpl\u001b[38;5;241m.\u001b[39mrcParams[\u001b[38;5;124m'\u001b[39m\u001b[38;5;124mlines.markersize\u001b[39m\u001b[38;5;124m'\u001b[39m] \u001b[38;5;241m*\u001b[39m\u001b[38;5;241m*\u001b[39m \u001b[38;5;241m2.0\u001b[39m)\n",
      "\u001b[1;31mValueError\u001b[0m: x and y must be the same size"
     ]
    },
    {
     "data": {
      "image/png": "[encoded data removed]",
      "text/plain": [
       "<Figure size 800x600 with 1 Axes>"
      ]
     },
     "metadata": {},
     "output_type": "display_data"
    }
   ],
   "source": [
    "y_pred = w * X_train + b\n",
    "\n",
    "#print(len(y_train))\n",
    "\n",
    "# 1. Plot Weight vs. MPG with the Fitted Line\n",
    "plt.figure(figsize=(8, 6))\n",
    "plt.scatter(X_train, y_train, color='blue', label='Training Data')\n",
    "# plt.plot(X_train, y_pred, color='red', label='Fitted Line')\n",
    "# plt.xlabel('Weight')\n",
    "# plt.ylabel('MPG')\n",
    "# plt.title('Weight vs. MPG with Linear Regression Fit')\n",
    "# plt.legend()\n",
    "plt.show()"
   ]
  },
  {
   "cell_type": "code",
   "execution_count": 82,
   "id": "84ccbeef-ec9a-4a6c-b6ca-b3e69616e2c6",
   "metadata": {},
   "outputs": [
    {
     "data": {
      "image/png": "[encoded data removed]",
      "text/plain": [
       "<Figure size 800x600 with 1 Axes>"
      ]
     },
     "metadata": {},
     "output_type": "display_data"
    }
   ],
   "source": [
    "# 2. Plot Cost vs. Iterations\n",
    "plt.figure(figsize=(8, 6))\n",
    "plt.plot(range(1, len(costs) + 1), costs, marker='o', color='green')\n",
    "plt.xlabel('Iterations')\n",
    "plt.ylabel('Cost')\n",
    "plt.title('Cost Reduction over Iterations')\n",
    "plt.grid()\n",
    "plt.show()"
   ]
  },
  {
   "cell_type": "code",
   "execution_count": 26,
   "id": "9caa52c9-1854-4f42-abbf-c2201885f860",
   "metadata": {},
   "outputs": [],
   "source": [
    "y_train_pred = np.dot(X_train, w) + b"
   ]
  },
  {
   "cell_type": "code",
   "execution_count": 27,
   "id": "60f05936-a61a-4653-bcbe-9fc0180c76c6",
   "metadata": {},
   "outputs": [
    {
     "name": "stdout",
     "output_type": "stream",
     "text": [
      "========Training Error =========\n",
      "Mean Absolute Error (MAE): 2.5823506922358246\n",
      "Mean Squared Error (MSE): 11.95140132616665\n",
      "R-squared (R^2): 0.8105950901156918\n"
     ]
    }
   ],
   "source": [
    "from sklearn.metrics import mean_absolute_error, mean_squared_error, r2_score\n",
    "\n",
    "# Predictions\n",
    "y_train_pred = np.dot(X_train, w) + b\n",
    "\n",
    "# Metrics\n",
    "mae = mean_absolute_error(y_train, y_train_pred)\n",
    "mse = mean_squared_error(y_train, y_train_pred)\n",
    "r2 = r2_score(y_train, y_train_pred)\n",
    "\n",
    "# Print results\n",
    "print(\"========Training Error =========\")\n",
    "print(f\"Mean Absolute Error (MAE): {mae}\")\n",
    "print(f\"Mean Squared Error (MSE): {mse}\")\n",
    "print(f\"R-squared (R^2): {r2}\")\n"
   ]
  },
  {
   "cell_type": "code",
   "execution_count": 28,
   "id": "c38acfcf-4f12-4818-8f48-239b5feb6304",
   "metadata": {},
   "outputs": [
    {
     "name": "stdout",
     "output_type": "stream",
     "text": [
      "Mean Absolute Error (MAE): 2.5474339369428827\n",
      "Mean Squared Error (MSE): 11.94002069541511\n",
      "R-squared (R^2): 0.7660680984129249\n"
     ]
    }
   ],
   "source": [
    "from sklearn.metrics import mean_absolute_error, mean_squared_error, r2_score\n",
    "\n",
    "# Predictions\n",
    "y_test_pred = np.dot(X_test,w) + b\n",
    "\n",
    "# Metrics\n",
    "mae = mean_absolute_error(y_test, y_test_pred)\n",
    "mse = mean_squared_error(y_test, y_test_pred)\n",
    "r2 = r2_score(y_test, y_test_pred)\n",
    "\n",
    "# Print results\n",
    "print(f\"Mean Absolute Error (MAE): {mae}\")\n",
    "print(f\"Mean Squared Error (MSE): {mse}\")\n",
    "print(f\"R-squared (R^2): {r2}\")\n"
   ]
  },
  {
   "cell_type": "code",
   "execution_count": null,
   "id": "1e926c82-9057-428f-b103-536885dfa953",
   "metadata": {},
   "outputs": [],
   "source": []
  }
 ],
 "metadata": {
  "kernelspec": {
   "display_name": "Python (automotive)",
   "language": "python",
   "name": "automotive"
  },
  "language_info": {
   "codemirror_mode": {
    "name": "ipython",
    "version": 3
   },
   "file_extension": ".py",
   "mimetype": "text/x-python",
   "name": "python",
   "nbconvert_exporter": "python",
   "pygments_lexer": "ipython3",
   "version": "3.11.7"
  }
 },
 "nbformat": 4,
 "nbformat_minor": 5
}
